{
 "cells": [
  {
   "cell_type": "markdown",
   "id": "d786a1ff",
   "metadata": {},
   "source": [
    "### PRUEBA CON EL MODELO FINAL PARA LA PUESTA EN PRODUCCION CON LOS DATOS DE TEST NO UTILIZADOS HASTA AHORA\n",
    "\n"
   ]
  },
  {
   "cell_type": "code",
   "execution_count": 1,
   "id": "b47dc515",
   "metadata": {},
   "outputs": [],
   "source": [
    "import pandas as pd\n",
    "import numpy as np\n",
    "import joblib\n",
    "import sys\n",
    "sys.path.append(\"C:/Users/Fernando/Desktop/Proyecto_Final_ML/src\")\n",
    "import preprocess_functions as pr\n",
    "import funciones_clases_pipeline_produccion"
   ]
  },
  {
   "cell_type": "code",
   "execution_count": 14,
   "id": "dabbed63",
   "metadata": {},
   "outputs": [],
   "source": [
    "data_test = pd.read_csv(\"C:/Users/Fernando/Desktop/Proyecto_Final_ML/data/data_test.csv\", index_col=0)"
   ]
  },
  {
   "cell_type": "code",
   "execution_count": 15,
   "id": "97d95947",
   "metadata": {},
   "outputs": [],
   "source": [
    "# MODIFICACION DE LA COLUMNA Y (target)\n",
    "data_test = data_test[~data_test[\"Company response\"].isin([\"In progress\", \"Untimely response\"])]\n",
    "# Creación del diccionario con los valores para codificar la columna Company reponse.\n",
    "estado_respuesta = {'Closed with monetary relief': 0, \n",
    "       'Closed with non-monetary relief':0, 'Closed with explanation': 1, 'Closed': 1}\n",
    "\n",
    "data_test[\"Company response\"] = data_test[\"Company response\"].map(estado_respuesta)\n",
    "X = data_test.drop(columns=[\"Company response\"])\n",
    "y = data_test[\"Company response\"]\n"
   ]
  },
  {
   "cell_type": "code",
   "execution_count": 8,
   "id": "eb01e644",
   "metadata": {},
   "outputs": [],
   "source": [
    "# Cargamos el pipeline\n",
    "\n",
    "pipeline = joblib.load(\"C:/Users/Fernando/Desktop/Proyecto_Final_ML/pipelines/pipeline_produccion.pkl\")"
   ]
  },
  {
   "cell_type": "code",
   "execution_count": 18,
   "id": "d296281e",
   "metadata": {},
   "outputs": [],
   "source": [
    "y_pred = pipeline.predict(X)\n",
    "y_proba = pipeline.predict_proba(X)"
   ]
  },
  {
   "cell_type": "code",
   "execution_count": 19,
   "id": "ba0a7897",
   "metadata": {},
   "outputs": [
    {
     "name": "stdout",
     "output_type": "stream",
     "text": [
      "              precision    recall  f1-score   support\n",
      "\n",
      "           0       0.28      0.75      0.41      1070\n",
      "           1       0.88      0.49      0.63      4000\n",
      "\n",
      "    accuracy                           0.54      5070\n",
      "   macro avg       0.58      0.62      0.52      5070\n",
      "weighted avg       0.75      0.54      0.58      5070\n",
      "\n",
      "0.6420413551401869\n"
     ]
    }
   ],
   "source": [
    "from sklearn.metrics import classification_report, roc_auc_score\n",
    "print(classification_report(y, y_pred))\n",
    "print(roc_auc_score(y, y_proba[:, 1]))"
   ]
  },
  {
   "cell_type": "markdown",
   "id": "df63b2f5",
   "metadata": {},
   "source": [
    "## Modelo muy robusto ya que los valores en las métricas obtenidos para el modelo con los datos de validacion no expuestos anteriormente presentan valores similares a los de entrenamiento y test"
   ]
  }
 ],
 "metadata": {
  "kernelspec": {
   "display_name": "proyecto-final-ml (3.11.8)",
   "language": "python",
   "name": "python3"
  },
  "language_info": {
   "codemirror_mode": {
    "name": "ipython",
    "version": 3
   },
   "file_extension": ".py",
   "mimetype": "text/x-python",
   "name": "python",
   "nbconvert_exporter": "python",
   "pygments_lexer": "ipython3",
   "version": "3.11.8"
  }
 },
 "nbformat": 4,
 "nbformat_minor": 5
}
