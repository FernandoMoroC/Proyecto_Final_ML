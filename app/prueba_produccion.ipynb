{
 "cells": [
  {
   "cell_type": "markdown",
   "id": "d786a1ff",
   "metadata": {},
   "source": [
    "### PRUEBA CON EL MODELO FINAL PARA LA PUESTA EN PRODUCCION CON LOS DATOS DE TEST NO UTILIZADOS HASTA AHORA\n",
    "\n"
   ]
  },
  {
   "cell_type": "code",
   "execution_count": 1,
   "id": "b47dc515",
   "metadata": {},
   "outputs": [],
   "source": [
    "import pandas as pd\n",
    "import numpy as np\n",
    "import joblib\n",
    "import sys\n",
    "sys.path.append(\"C:/Users/Fernando/Desktop/Proyecto_Final_ML/src\")\n",
    "import preprocess_functions as pr\n",
    "import funciones_clases_pipeline_produccion"
   ]
  },
  {
   "cell_type": "code",
   "execution_count": 2,
   "id": "dabbed63",
   "metadata": {},
   "outputs": [],
   "source": [
    "data_test = pd.read_csv(\"C:/Users/Fernando/Desktop/Proyecto_Final_ML/data/data_test.csv\", index_col=0)"
   ]
  },
  {
   "cell_type": "code",
   "execution_count": null,
   "id": "97d95947",
   "metadata": {},
   "outputs": [],
   "source": [
    "# MODIFICACION DE LA COLUMNA Y (target)\n",
    "data_test = data_test[~data_test[\"Company response\"].isin([\"In progress\", \"Untimely response\"])]\n",
    "# Creación del diccionario con los valores para codificar la columna Company reponse.\n",
    "estado_respuesta = {'Closed with monetary relief': 0, \n",
    "       'Closed with non-monetary relief':0, 'Closed with explanation': 1, 'Closed': 1}\n",
    "\n",
    "data_test[\"Company response\"] = data_test[\"Company response\"].map(estado_respuesta)\n",
    "X = data_test.drop(columns=[\"Company response\"])\n",
    "y = data_test[\"Company response\"]\n",
    "\n"
   ]
  },
  {
   "cell_type": "code",
   "execution_count": 4,
   "id": "eb01e644",
   "metadata": {},
   "outputs": [],
   "source": [
    "# Cargamos el pipeline\n",
    "\n",
    "pipeline = joblib.load(\"C:/Users/Fernando/Desktop/Proyecto_Final_ML/pipelines/pipeline_produccion.pkl\")"
   ]
  },
  {
   "cell_type": "code",
   "execution_count": 5,
   "id": "d296281e",
   "metadata": {},
   "outputs": [],
   "source": [
    "y_pred = pipeline.predict(X)\n",
    "y_proba = pipeline.predict_proba(X)"
   ]
  },
  {
   "cell_type": "code",
   "execution_count": 6,
   "id": "ba0a7897",
   "metadata": {},
   "outputs": [
    {
     "name": "stdout",
     "output_type": "stream",
     "text": [
      "              precision    recall  f1-score   support\n",
      "\n",
      "           0       0.28      0.75      0.41      1070\n",
      "           1       0.88      0.49      0.63      4000\n",
      "\n",
      "    accuracy                           0.54      5070\n",
      "   macro avg       0.58      0.62      0.52      5070\n",
      "weighted avg       0.75      0.54      0.58      5070\n",
      "\n",
      "0.6420413551401869\n"
     ]
    }
   ],
   "source": [
    "from sklearn.metrics import classification_report, roc_auc_score\n",
    "print(classification_report(y, y_pred))\n",
    "print(roc_auc_score(y, y_proba[:, 1]))"
   ]
  },
  {
   "cell_type": "markdown",
   "id": "df63b2f5",
   "metadata": {},
   "source": [
    "## Modelo muy robusto ya que los valores en las métricas obtenidos para el modelo con los datos de validacion no expuestos anteriormente presentan valores similares a los de entrenamiento y test"
   ]
  },
  {
   "cell_type": "markdown",
   "id": "4758aff9",
   "metadata": {},
   "source": [
    "## DESPLIEGUE CON GRADIO"
   ]
  },
  {
   "cell_type": "code",
   "execution_count": 15,
   "id": "add44500",
   "metadata": {},
   "outputs": [],
   "source": [
    "import joblib\n",
    "import gradio as gr\n",
    "import pandas as pd"
   ]
  },
  {
   "cell_type": "code",
   "execution_count": 16,
   "id": "191aa8f1",
   "metadata": {},
   "outputs": [],
   "source": [
    "# Guardado de las 10 primeras filas de la partición de datos de test\n",
    "\n",
    "X_produccion = X.iloc[:11, :].to_csv(\"valores_para_testeo_gradio.csv\", index=False)"
   ]
  },
  {
   "cell_type": "code",
   "execution_count": 19,
   "id": "b508318a",
   "metadata": {},
   "outputs": [],
   "source": [
    "import joblib\n",
    "import gradio as gr\n",
    "import pandas as pd\n",
    "\n",
    "pipeline = joblib.load(\"C:/Users/Fernando/Desktop/Proyecto_Final_ML/pipelines/pipeline_produccion.pkl\")\n",
    "\n",
    "def predecir_csv(ruta_csv):\n",
    "    \n",
    "    df = pd.read_csv(ruta_csv)\n",
    "\n",
    "    predicciones = pipeline.predict(df)\n",
    "    probabilidad = pipeline.predict_proba(df)\n",
    "\n",
    "    prob_predicha = []\n",
    "    for i, pred in enumerate(predicciones):\n",
    "        prob_predicha.append(probabilidad[i, pred])\n",
    "        \n",
    "    df[\"Prediccion\"] = predicciones\n",
    "    df[\"Probabilidad\"] = prob_predicha\n",
    "\n",
    "    df[\"Mensaje\"] = df[\"Prediccion\"].map({\n",
    "        0: \"La queja requiere acción\",\n",
    "        1: \"La queja no requiere acción\"\n",
    "    })\n",
    "\n",
    "    return df\n"
   ]
  },
  {
   "cell_type": "code",
   "execution_count": 21,
   "id": "13ac1d54",
   "metadata": {},
   "outputs": [
    {
     "name": "stdout",
     "output_type": "stream",
     "text": [
      "* Running on local URL:  http://127.0.0.1:7863\n",
      "* To create a public link, set `share=True` in `launch()`.\n"
     ]
    },
    {
     "data": {
      "text/html": [
       "<div><iframe src=\"http://127.0.0.1:7863/\" width=\"100%\" height=\"500\" allow=\"autoplay; camera; microphone; clipboard-read; clipboard-write;\" frameborder=\"0\" allowfullscreen></iframe></div>"
      ],
      "text/plain": [
       "<IPython.core.display.HTML object>"
      ]
     },
     "metadata": {},
     "output_type": "display_data"
    },
    {
     "data": {
      "text/plain": []
     },
     "execution_count": 21,
     "metadata": {},
     "output_type": "execute_result"
    }
   ],
   "source": [
    "demo = gr.Interface(\n",
    "    fn=predecir_csv,\n",
    "    inputs=gr.File(type=\"filepath\", file_types=[\".csv\"], label=\"Sube un CSV con las quejas\"),\n",
    "    outputs=gr.Dataframe(label=\"Predicciones\"),\n",
    "    title=\"Modelo predictivo de prioridad de atención a quejas\"\n",
    ")\n",
    "\n",
    "demo.launch()"
   ]
  }
 ],
 "metadata": {
  "kernelspec": {
   "display_name": "proyecto-final-ml (3.11.8)",
   "language": "python",
   "name": "python3"
  },
  "language_info": {
   "codemirror_mode": {
    "name": "ipython",
    "version": 3
   },
   "file_extension": ".py",
   "mimetype": "text/x-python",
   "name": "python",
   "nbconvert_exporter": "python",
   "pygments_lexer": "ipython3",
   "version": "3.11.8"
  }
 },
 "nbformat": 4,
 "nbformat_minor": 5
}
