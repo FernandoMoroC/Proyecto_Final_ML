{
 "cells": [
  {
   "cell_type": "markdown",
   "id": "d786a1ff",
   "metadata": {},
   "source": [
    "### PRUEBA CON EL MODELO FINAL PARA LA PUESTA EN PRODUCCION CON LOS DATOS DE TEST NO UTILIZADOS HASTA AHORA\n",
    "\n"
   ]
  },
  {
   "cell_type": "code",
   "execution_count": 1,
   "id": "b47dc515",
   "metadata": {},
   "outputs": [],
   "source": [
    "import pandas as pd\n",
    "import numpy as np\n",
    "import joblib\n",
    "import sys\n",
    "sys.path.append(\"C:/Users/Fernando/Desktop/Proyecto_Final_ML/src\")\n",
    "import preprocess_functions as pr\n",
    "import funciones_clases_pipeline_produccion"
   ]
  },
  {
   "cell_type": "code",
   "execution_count": 2,
   "id": "dabbed63",
   "metadata": {},
   "outputs": [],
   "source": [
    "data_test = pd.read_csv(\"C:/Users/Fernando/Desktop/Proyecto_Final_ML/data/data_test.csv\", index_col=0)"
   ]
  },
  {
   "cell_type": "code",
   "execution_count": 3,
   "id": "97d95947",
   "metadata": {},
   "outputs": [],
   "source": [
    "# MODIFICACION DE LA COLUMNA Y (target)\n",
    "data_test = data_test[~data_test[\"Company response\"].isin([\"In progress\", \"Untimely response\"])]\n",
    "# Creación del diccionario con los valores para codificar la columna Company reponse.\n",
    "estado_respuesta = {'Closed with monetary relief': 0, \n",
    "       'Closed with non-monetary relief':0, 'Closed with explanation': 1, 'Closed': 1}\n",
    "\n",
    "data_test[\"Company response\"] = data_test[\"Company response\"].map(estado_respuesta)\n",
    "X = data_test.drop(columns=[\"Company response\"])\n",
    "y = data_test[\"Company response\"]\n",
    "\n"
   ]
  },
  {
   "cell_type": "code",
   "execution_count": 4,
   "id": "eb01e644",
   "metadata": {},
   "outputs": [],
   "source": [
    "# Cargamos el pipeline\n",
    "\n",
    "pipeline = joblib.load(\"C:/Users/Fernando/Desktop/Proyecto_Final_ML/pipelines/pipeline_produccion.pkl\")"
   ]
  },
  {
   "cell_type": "code",
   "execution_count": 5,
   "id": "d296281e",
   "metadata": {},
   "outputs": [],
   "source": [
    "y_pred = pipeline.predict(X)\n",
    "y_proba = pipeline.predict_proba(X)"
   ]
  },
  {
   "cell_type": "code",
   "execution_count": 6,
   "id": "ba0a7897",
   "metadata": {},
   "outputs": [
    {
     "name": "stdout",
     "output_type": "stream",
     "text": [
      "              precision    recall  f1-score   support\n",
      "\n",
      "           0       0.28      0.75      0.41      1070\n",
      "           1       0.88      0.49      0.63      4000\n",
      "\n",
      "    accuracy                           0.54      5070\n",
      "   macro avg       0.58      0.62      0.52      5070\n",
      "weighted avg       0.75      0.54      0.58      5070\n",
      "\n",
      "0.6420413551401869\n"
     ]
    }
   ],
   "source": [
    "from sklearn.metrics import classification_report, roc_auc_score\n",
    "print(classification_report(y, y_pred))\n",
    "print(roc_auc_score(y, y_proba[:, 1]))"
   ]
  },
  {
   "cell_type": "markdown",
   "id": "df63b2f5",
   "metadata": {},
   "source": [
    "## Modelo muy robusto ya que los valores en las métricas obtenidos para el modelo con los datos de validacion no expuestos anteriormente presentan valores similares a los de entrenamiento y test"
   ]
  },
  {
   "cell_type": "markdown",
   "id": "4758aff9",
   "metadata": {},
   "source": [
    "## DESPLIEGUE CON GRADIO"
   ]
  },
  {
   "cell_type": "code",
   "execution_count": 7,
   "id": "add44500",
   "metadata": {},
   "outputs": [],
   "source": [
    "import joblib\n",
    "import gradio as gr\n",
    "import pandas as pd"
   ]
  },
  {
   "cell_type": "code",
   "execution_count": 8,
   "id": "191aa8f1",
   "metadata": {},
   "outputs": [],
   "source": [
    "# Guardado de las 10 primeras filas de la partición de datos de test\n",
    "\n",
    "X_produccion = X.iloc[:11, :].to_csv(\"valores_para_testeo_gradio.csv\", index=False)"
   ]
  },
  {
   "cell_type": "code",
   "execution_count": null,
   "id": "b508318a",
   "metadata": {},
   "outputs": [],
   "source": [
    "import joblib\n",
    "import gradio as gr\n",
    "import pandas as pd\n",
    "\n",
    "pipeline = joblib.load(\"C:/Users/Fernando/Desktop/Proyecto_Final_ML/pipelines/pipeline_produccion.pkl\")\n",
    "\n",
    "def predecir_csv(ruta_csv):\n",
    "    \n",
    "    df = pd.read_csv(ruta_csv)\n",
    "\n",
    "    predicciones = pipeline.predict(df)\n",
    "    probabilidad = pipeline.predict_proba(df)\n",
    "\n",
    "    prob_predicha = []\n",
    "    for i, pred in enumerate(predicciones):\n",
    "        prob_predicha.append(probabilidad[i, pred])\n",
    "        \n",
    "    df[\"Prediccion\"] = predicciones\n",
    "    df[\"Probabilidad\"] = prob_predicha\n",
    "\n",
    "    df[\"Mensaje\"] = df[\"Prediccion\"].map({\n",
    "        0: \"La queja requiere compensación\",\n",
    "        1: \"La queja no requiere compensación\"\n",
    "    })\n",
    "\n",
    "    return df\n",
    "\n",
    "\n",
    "demo = gr.Interface(\n",
    "    fn=predecir_csv,\n",
    "    inputs=gr.File(type=\"filepath\", file_types=[\".csv\"], label=\"Sube un CSV con las quejas\"),\n",
    "    outputs=gr.Dataframe(label=\"Predicciones\"),\n",
    "    title=\"Modelo predictivo de prioridad de atención a quejas\"\n",
    ")\n",
    "\n",
    "demo.launch()"
   ]
  },
  {
   "cell_type": "code",
   "execution_count": 10,
   "id": "13ac1d54",
   "metadata": {},
   "outputs": [
    {
     "name": "stdout",
     "output_type": "stream",
     "text": [
      "* Running on local URL:  http://127.0.0.1:7860\n",
      "* To create a public link, set `share=True` in `launch()`.\n"
     ]
    },
    {
     "data": {
      "text/html": [
       "<div><iframe src=\"http://127.0.0.1:7860/\" width=\"100%\" height=\"500\" allow=\"autoplay; camera; microphone; clipboard-read; clipboard-write;\" frameborder=\"0\" allowfullscreen></iframe></div>"
      ],
      "text/plain": [
       "<IPython.core.display.HTML object>"
      ]
     },
     "metadata": {},
     "output_type": "display_data"
    },
    {
     "data": {
      "text/plain": []
     },
     "execution_count": 10,
     "metadata": {},
     "output_type": "execute_result"
    },
    {
     "name": "stderr",
     "output_type": "stream",
     "text": [
      "Traceback (most recent call last):\n",
      "  File \"c:\\Users\\Fernando\\Desktop\\Proyecto_Final_ML\\.venv\\Lib\\site-packages\\gradio\\queueing.py\", line 626, in process_events\n",
      "    response = await route_utils.call_process_api(\n",
      "               ^^^^^^^^^^^^^^^^^^^^^^^^^^^^^^^^^^^\n",
      "  File \"c:\\Users\\Fernando\\Desktop\\Proyecto_Final_ML\\.venv\\Lib\\site-packages\\gradio\\route_utils.py\", line 349, in call_process_api\n",
      "    output = await app.get_blocks().process_api(\n",
      "             ^^^^^^^^^^^^^^^^^^^^^^^^^^^^^^^^^^^\n",
      "  File \"c:\\Users\\Fernando\\Desktop\\Proyecto_Final_ML\\.venv\\Lib\\site-packages\\gradio\\blocks.py\", line 2274, in process_api\n",
      "    result = await self.call_function(\n",
      "             ^^^^^^^^^^^^^^^^^^^^^^^^^\n",
      "  File \"c:\\Users\\Fernando\\Desktop\\Proyecto_Final_ML\\.venv\\Lib\\site-packages\\gradio\\blocks.py\", line 1781, in call_function\n",
      "    prediction = await anyio.to_thread.run_sync(  # type: ignore\n",
      "                 ^^^^^^^^^^^^^^^^^^^^^^^^^^^^^^^^^^^^^^^^^^^^^^^\n",
      "  File \"c:\\Users\\Fernando\\Desktop\\Proyecto_Final_ML\\.venv\\Lib\\site-packages\\anyio\\to_thread.py\", line 56, in run_sync\n",
      "    return await get_async_backend().run_sync_in_worker_thread(\n",
      "           ^^^^^^^^^^^^^^^^^^^^^^^^^^^^^^^^^^^^^^^^^^^^^^^^^^^^\n",
      "  File \"c:\\Users\\Fernando\\Desktop\\Proyecto_Final_ML\\.venv\\Lib\\site-packages\\anyio\\_backends\\_asyncio.py\", line 2476, in run_sync_in_worker_thread\n",
      "    return await future\n",
      "           ^^^^^^^^^^^^\n",
      "  File \"c:\\Users\\Fernando\\Desktop\\Proyecto_Final_ML\\.venv\\Lib\\site-packages\\anyio\\_backends\\_asyncio.py\", line 967, in run\n",
      "    result = context.run(func, *args)\n",
      "             ^^^^^^^^^^^^^^^^^^^^^^^^\n",
      "  File \"c:\\Users\\Fernando\\Desktop\\Proyecto_Final_ML\\.venv\\Lib\\site-packages\\gradio\\utils.py\", line 909, in wrapper\n",
      "    response = f(*args, **kwargs)\n",
      "               ^^^^^^^^^^^^^^^^^^\n",
      "  File \"C:\\Users\\Fernando\\AppData\\Local\\Temp\\ipykernel_12332\\1430430212.py\", line 9, in predecir_csv\n",
      "    df = pd.read_csv(ruta_csv)\n",
      "         ^^^^^^^^^^^^^^^^^^^^^\n",
      "  File \"c:\\Users\\Fernando\\Desktop\\Proyecto_Final_ML\\.venv\\Lib\\site-packages\\pandas\\io\\parsers\\readers.py\", line 1026, in read_csv\n",
      "    return _read(filepath_or_buffer, kwds)\n",
      "           ^^^^^^^^^^^^^^^^^^^^^^^^^^^^^^^\n",
      "  File \"c:\\Users\\Fernando\\Desktop\\Proyecto_Final_ML\\.venv\\Lib\\site-packages\\pandas\\io\\parsers\\readers.py\", line 620, in _read\n",
      "    parser = TextFileReader(filepath_or_buffer, **kwds)\n",
      "             ^^^^^^^^^^^^^^^^^^^^^^^^^^^^^^^^^^^^^^^^^^\n",
      "  File \"c:\\Users\\Fernando\\Desktop\\Proyecto_Final_ML\\.venv\\Lib\\site-packages\\pandas\\io\\parsers\\readers.py\", line 1620, in __init__\n",
      "    self._engine = self._make_engine(f, self.engine)\n",
      "                   ^^^^^^^^^^^^^^^^^^^^^^^^^^^^^^^^^\n",
      "  File \"c:\\Users\\Fernando\\Desktop\\Proyecto_Final_ML\\.venv\\Lib\\site-packages\\pandas\\io\\parsers\\readers.py\", line 1880, in _make_engine\n",
      "    self.handles = get_handle(\n",
      "                   ^^^^^^^^^^^\n",
      "  File \"c:\\Users\\Fernando\\Desktop\\Proyecto_Final_ML\\.venv\\Lib\\site-packages\\pandas\\io\\common.py\", line 728, in get_handle\n",
      "    ioargs = _get_filepath_or_buffer(\n",
      "             ^^^^^^^^^^^^^^^^^^^^^^^^\n",
      "  File \"c:\\Users\\Fernando\\Desktop\\Proyecto_Final_ML\\.venv\\Lib\\site-packages\\pandas\\io\\common.py\", line 472, in _get_filepath_or_buffer\n",
      "    raise ValueError(msg)\n",
      "ValueError: Invalid file path or buffer object type: <class 'NoneType'>\n"
     ]
    }
   ],
   "source": [
    "demo = gr.Interface(\n",
    "    fn=predecir_csv,\n",
    "    inputs=gr.File(type=\"filepath\", file_types=[\".csv\"], label=\"Sube un CSV con las quejas\"),\n",
    "    outputs=gr.Dataframe(label=\"Predicciones\"),\n",
    "    title=\"Modelo predictivo de prioridad de atención a quejas\"\n",
    ")\n",
    "\n",
    "demo.launch()"
   ]
  },
  {
   "cell_type": "code",
   "execution_count": 1,
   "id": "9ebb9199",
   "metadata": {},
   "outputs": [
    {
     "ename": "FileNotFoundError",
     "evalue": "[Errno 2] No such file or directory: 'pipeline_produccion.pkl'",
     "output_type": "error",
     "traceback": [
      "\u001b[31m---------------------------------------------------------------------------\u001b[39m",
      "\u001b[31mFileNotFoundError\u001b[39m                         Traceback (most recent call last)",
      "\u001b[36mCell\u001b[39m\u001b[36m \u001b[39m\u001b[32mIn[1]\u001b[39m\u001b[32m, line 6\u001b[39m\n\u001b[32m      2\u001b[39m \u001b[38;5;28;01mimport\u001b[39;00m\u001b[38;5;250m \u001b[39m\u001b[34;01mgradio\u001b[39;00m\u001b[38;5;250m \u001b[39m\u001b[38;5;28;01mas\u001b[39;00m\u001b[38;5;250m \u001b[39m\u001b[34;01mgr\u001b[39;00m\n\u001b[32m      3\u001b[39m \u001b[38;5;28;01mimport\u001b[39;00m\u001b[38;5;250m \u001b[39m\u001b[34;01mpandas\u001b[39;00m\u001b[38;5;250m \u001b[39m\u001b[38;5;28;01mas\u001b[39;00m\u001b[38;5;250m \u001b[39m\u001b[34;01mpd\u001b[39;00m\n\u001b[32m----> \u001b[39m\u001b[32m6\u001b[39m pipeline = \u001b[43mjoblib\u001b[49m\u001b[43m.\u001b[49m\u001b[43mload\u001b[49m\u001b[43m(\u001b[49m\u001b[33;43m\"\u001b[39;49m\u001b[33;43mpipeline_produccion.pkl\u001b[39;49m\u001b[33;43m\"\u001b[39;49m\u001b[43m)\u001b[49m\n\u001b[32m      8\u001b[39m \u001b[38;5;66;03m# ==============================\u001b[39;00m\n\u001b[32m      9\u001b[39m \u001b[38;5;66;03m# Predicción desde CSV\u001b[39;00m\n\u001b[32m     10\u001b[39m \u001b[38;5;66;03m# ==============================\u001b[39;00m\n\u001b[32m     11\u001b[39m \u001b[38;5;28;01mdef\u001b[39;00m\u001b[38;5;250m \u001b[39m\u001b[34mpredecir_csv\u001b[39m(ruta_csv):\n",
      "\u001b[36mFile \u001b[39m\u001b[32mc:\\Users\\Fernando\\Desktop\\Proyecto_Final_ML\\.venv\\Lib\\site-packages\\joblib\\numpy_pickle.py:735\u001b[39m, in \u001b[36mload\u001b[39m\u001b[34m(filename, mmap_mode, ensure_native_byte_order)\u001b[39m\n\u001b[32m    733\u001b[39m         obj = _unpickle(fobj, ensure_native_byte_order=ensure_native_byte_order)\n\u001b[32m    734\u001b[39m \u001b[38;5;28;01melse\u001b[39;00m:\n\u001b[32m--> \u001b[39m\u001b[32m735\u001b[39m     \u001b[38;5;28;01mwith\u001b[39;00m \u001b[38;5;28;43mopen\u001b[39;49m\u001b[43m(\u001b[49m\u001b[43mfilename\u001b[49m\u001b[43m,\u001b[49m\u001b[43m \u001b[49m\u001b[33;43m\"\u001b[39;49m\u001b[33;43mrb\u001b[39;49m\u001b[33;43m\"\u001b[39;49m\u001b[43m)\u001b[49m \u001b[38;5;28;01mas\u001b[39;00m f:\n\u001b[32m    736\u001b[39m         \u001b[38;5;28;01mwith\u001b[39;00m _validate_fileobject_and_memmap(f, filename, mmap_mode) \u001b[38;5;28;01mas\u001b[39;00m (\n\u001b[32m    737\u001b[39m             fobj,\n\u001b[32m    738\u001b[39m             validated_mmap_mode,\n\u001b[32m    739\u001b[39m         ):\n\u001b[32m    740\u001b[39m             \u001b[38;5;28;01mif\u001b[39;00m \u001b[38;5;28misinstance\u001b[39m(fobj, \u001b[38;5;28mstr\u001b[39m):\n\u001b[32m    741\u001b[39m                 \u001b[38;5;66;03m# if the returned file object is a string, this means we\u001b[39;00m\n\u001b[32m    742\u001b[39m                 \u001b[38;5;66;03m# try to load a pickle file generated with an version of\u001b[39;00m\n\u001b[32m    743\u001b[39m                 \u001b[38;5;66;03m# Joblib so we load it with joblib compatibility function.\u001b[39;00m\n",
      "\u001b[31mFileNotFoundError\u001b[39m: [Errno 2] No such file or directory: 'pipeline_produccion.pkl'"
     ]
    }
   ],
   "source": [
    "import joblib\n",
    "import gradio as gr\n",
    "import pandas as pd\n",
    "\n",
    "\n",
    "pipeline = joblib.load(\"pipeline_produccion.pkl\")\n",
    "\n",
    "# ==============================\n",
    "# Predicción desde CSV\n",
    "# ==============================\n",
    "def predecir_csv(ruta_csv):\n",
    "    df = pd.read_csv(ruta_csv.name)  \n",
    "    predicciones = pipeline.predict(df)\n",
    "    probabilidad = pipeline.predict_proba(df)\n",
    "\n",
    "    prob_predicha = []\n",
    "    for i, pred in enumerate(predicciones):\n",
    "        prob_predicha.append(probabilidad[i, pred])\n",
    "        \n",
    "    df[\"Prediccion\"] = predicciones\n",
    "    df[\"Probabilidad\"] = prob_predicha\n",
    "    df[\"Mensaje\"] = df[\"Prediccion\"].map({\n",
    "        0: \"La queja requiere compensación\",\n",
    "        1: \"La queja no requiere compensación\"\n",
    "    })\n",
    "    return df\n",
    "\n",
    "def predecir_valores(Complaint_ID, Product, Sub_product, Issue, Sub_issue, State,\n",
    "                     ZIP_code, Date_received, Date_sent_to_company, Company):\n",
    "    \n",
    "    df = pd.DataFrame([{'Complaint ID': Complaint_ID , 'Product':Product, \n",
    "                        'Sub-product': Sub_product, 'Issue':Issue, 'Sub-issue':Sub_issue,\n",
    "                        'State': State,'ZIP code':ZIP_code, 'Date received':Date_received,\n",
    "                         'Date sent to company':Date_sent_to_company, 'Company':Company\n",
    "    }])\n",
    "    \n",
    "    pred = pipeline.predict(df)\n",
    "    prob = pipeline.predict_proba(df)\n",
    "\n",
    "    df[\"Prediccion\"] = pred\n",
    "    df[\"Probabilidad\"] = [prob[0, pred[0]]]\n",
    "    df[\"Mensaje\"] = df[\"Prediccion\"].map({\n",
    "        0: \"La queja requiere compensación\",\n",
    "        1: \"La queja no requiere compensación\"\n",
    "    })\n",
    "    return df\n",
    "\n",
    "\n",
    "# Interfaz Gradio\n",
    "\n",
    "with gr.Blocks() as demo:\n",
    "    gr.Markdown(\"# Modelo predictivo de atención a reclamaciones\")\n",
    "\n",
    "    with gr.Tab(\"📂 Subir CSV\"):\n",
    "        csv_input = gr.File(type=\"file\", file_types=[\".csv\"], label=\"Sube un CSV con las reclamaciones\")\n",
    "        csv_output = gr.Dataframe(label=\"Predicciones\")\n",
    "        btn1 = gr.Button(\"Predecir desde CSV\")\n",
    "        btn1.click(fn=predecir_csv, inputs=csv_input, outputs=csv_output)\n",
    "\n",
    "    with gr.Tab(\"✍️ Introducir valores manuales\"):\n",
    "        gr.Markdown(\"Introduce los valores de la queja (ajusta a tus variables reales).\")\n",
    "\n",
    "        # 🔹 Ajusta estos campos según las columnas que usa tu pipeline\n",
    "\n",
    "        Complaint_ID = gr.Number(label=\"Reclamación ID\")\n",
    "        Product = gr.Dropdown(choices=['Debt collection', 'Mortgage', 'Credit reporting', 'Credit card',\n",
    "                                       'Bank account or service', 'Consumer loan', 'Student loan', \n",
    "                                       'Payday loan', 'Money transfers', 'Prepaid card'], label=\"Producto\")\n",
    "        Sub_product = gr.Textbox(label=\"Sub-Producto\")\n",
    "        Issue = gr.Textbox(label=\"Problema\")\n",
    "        Sub_issue = gr.Textbox(label=\"Sub-Problema\")\n",
    "        State = gr.Dropdown(choices=['TX', 'KS', 'NY', 'CT', 'MS', 'UT', 'FL', 'AZ', 'VA', 'NV',\n",
    "                                     'MD', 'CA', 'OR', 'DE', 'IL', 'LA', 'NJ', 'SC', 'OH', 'ID', 'WA',\n",
    "                                     'MO', 'ME', 'PA', 'AL', 'IA', 'PR', 'CO', 'KY', 'IN', 'MN', 'NE',\n",
    "                                     'GA', 'NC', 'MA', 'WI', 'MI', 'AR', 'OK', 'TN', 'NH', 'WV', 'SD',\n",
    "                                     'AK', 'DC', 'NM', 'WY', 'RI', 'VT', 'HI', 'MH', 'VI', 'AP', 'MT',\n",
    "                                     'AS', 'ND', 'GU', 'AE', 'PW'], label=\"Estado\")\n",
    "        ZIP_code = gr.Number(label=\"Código Postal\")\n",
    "        Date_received = gr.DatePicker(label=\"fecha de recepción de la reclamación\")\n",
    "        Date_sent_to_company = gr.DatePicker(label=\"fecha de envío de la reclamación a la empresa\")\n",
    "        Company = gr.Textbox(label=\"Nombre de la compañía\")\n",
    "\n",
    "        btn2 = gr.Button(\"Predecir desde valores\")\n",
    "        val_output = gr.Dataframe(label=\"Predicción manual\")\n",
    "\n",
    "        btn2.click(fn=predecir_valores, inputs=[Complaint_ID, Product, Sub_product, Issue, \n",
    "                                                Sub_issue, State,ZIP_code, Date_received,\n",
    "                                                  Date_sent_to_company, Company], outputs=val_output)\n",
    "\n",
    "demo.launch()\n"
   ]
  }
 ],
 "metadata": {
  "kernelspec": {
   "display_name": "proyecto-final-ml (3.11.8)",
   "language": "python",
   "name": "python3"
  },
  "language_info": {
   "codemirror_mode": {
    "name": "ipython",
    "version": 3
   },
   "file_extension": ".py",
   "mimetype": "text/x-python",
   "name": "python",
   "nbconvert_exporter": "python",
   "pygments_lexer": "ipython3",
   "version": "3.11.8"
  }
 },
 "nbformat": 4,
 "nbformat_minor": 5
}
