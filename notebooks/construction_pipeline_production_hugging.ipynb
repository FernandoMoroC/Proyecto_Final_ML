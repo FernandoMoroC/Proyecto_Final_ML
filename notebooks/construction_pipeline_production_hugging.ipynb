{
 "cells": [
  {
   "cell_type": "code",
   "execution_count": 2,
   "id": "eea853e1",
   "metadata": {},
   "outputs": [
    {
     "name": "stderr",
     "output_type": "stream",
     "text": [
      "C:\\Users\\Fernando\\AppData\\Local\\Temp\\ipykernel_5604\\2107138701.py:9: SettingWithCopyWarning: \n",
      "A value is trying to be set on a copy of a slice from a DataFrame.\n",
      "Try using .loc[row_indexer,col_indexer] = value instead\n",
      "\n",
      "See the caveats in the documentation: https://pandas.pydata.org/pandas-docs/stable/user_guide/indexing.html#returning-a-view-versus-a-copy\n",
      "  data_company_response_binary[\"Company response\"] = data_company_response_binary[\"Company response\"].map(estado_respuesta)\n"
     ]
    }
   ],
   "source": [
    "from sklearn.model_selection import train_test_split\n",
    "import pandas as pd\n",
    "\n",
    "data = pd.read_csv(\"../data/data_train.csv\", index_col=0)\n",
    "data_company_response_binary = data[~data[\"Company response\"].isin([\"In progress\", \"Untimely response\"])]\n",
    "estado_respuesta = {'Closed with monetary relief': 0, \n",
    "       'Closed with non-monetary relief':0, 'Closed with explanation': 1, 'Closed': 1}\n",
    "\n",
    "data_company_response_binary[\"Company response\"] = data_company_response_binary[\"Company response\"].map(estado_respuesta)\n",
    "\n",
    "\n",
    "X = data_company_response_binary.drop(columns=[\"Company response\"])\n",
    "y = data_company_response_binary[\"Company response\"]\n",
    "\n",
    "X_train, X_test, y_train, y_test = train_test_split(X, y, test_size=0.2, random_state= 42)"
   ]
  },
  {
   "cell_type": "markdown",
   "id": "b922348e",
   "metadata": {},
   "source": [
    "# PIPELINE"
   ]
  },
  {
   "cell_type": "code",
   "execution_count": 3,
   "id": "173dfaef",
   "metadata": {},
   "outputs": [
    {
     "data": {
      "text/plain": [
       "['C:/Users/Fernando/Desktop/Proyecto_Final_ML/app/pipeline_produccion.pkl']"
      ]
     },
     "execution_count": 3,
     "metadata": {},
     "output_type": "execute_result"
    }
   ],
   "source": [
    "import pandas as pd\n",
    "from sklearn.base import BaseEstimator, TransformerMixin\n",
    "from sklearn.pipeline import Pipeline\n",
    "from sklearn.preprocessing import FunctionTransformer\n",
    "from sklearn.preprocessing import TargetEncoder\n",
    "from sklearn.preprocessing import OneHotEncoder\n",
    "from gensim.models import Word2Vec\n",
    "import sys\n",
    "sys.path.append(\"C:/Users/Fernando/Desktop/Proyecto_Final_ML/app\")\n",
    "from utils import *\n",
    "import numpy as np\n",
    "from sklearn.linear_model import LogisticRegression\n",
    "import joblib\n",
    "\n",
    "pipeline = Pipeline([\n",
    "    (\"fill_na\", filling_na),\n",
    "    (\"encoder\", FillEncodeColumn(column=\"Sub-product\")),\n",
    "    (\"date_transformation_received\", date_converter_received),\n",
    "    (\"date_transformation_sent\", date_converter_sent),\n",
    "    (\"day_week_received\", day_of_week_month_received),\n",
    "    (\"day_week_sent\", day_of_week_month_sent),\n",
    "    (\"product_encoder\", ProductEncoder(column=\"Product\")),\n",
    "    (\"reg_and_div\", regions_and_divisions),\n",
    "    (\"red_enc\", RegionDivisionEncoder(column=\"regions\")),\n",
    "    (\"div_enc\", RegionDivisionEncoder(column=\"divisions\")),\n",
    "    (\"cleaner text\", text_cleaner),\n",
    "    (\"embedding creation\", Word2VecVectorizer(column=\"Issue_tokens\")),\n",
    "    (\"company type\", company_type_converter_pipe),\n",
    "    (\"company from porduct\", Company_type_from_product(column=\"Company_type\")),\n",
    "    (\"Drop columns\", ColumnDropper(columns_to_drop=[\"Complaint ID\",\"Sub-issue\", \"ZIP code\", \"Company\", \n",
    "             \"Timely response?\", \"Consumer disputed?\"])),\n",
    "    (\"model\", LogisticRegression(C= 10, penalty='l2', solver= 'liblinear', class_weight=\"balanced\", random_state=42))\n",
    "\n",
    "])\n",
    "\n",
    "pipeline.fit(X_train, y_train)\n",
    "\n",
    "joblib.dump(pipeline, \"C:/Users/Fernando/Desktop/Proyecto_Final_ML/app/pipeline_produccion.pkl\" )"
   ]
  }
 ],
 "metadata": {
  "kernelspec": {
   "display_name": "proyecto-final-ml (3.11.8)",
   "language": "python",
   "name": "python3"
  },
  "language_info": {
   "codemirror_mode": {
    "name": "ipython",
    "version": 3
   },
   "file_extension": ".py",
   "mimetype": "text/x-python",
   "name": "python",
   "nbconvert_exporter": "python",
   "pygments_lexer": "ipython3",
   "version": "3.11.8"
  }
 },
 "nbformat": 4,
 "nbformat_minor": 5
}
