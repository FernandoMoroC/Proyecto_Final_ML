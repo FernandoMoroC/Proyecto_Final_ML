{
 "cells": [
  {
   "cell_type": "code",
   "execution_count": 1,
   "id": "ef7d2f04",
   "metadata": {},
   "outputs": [
    {
     "ename": "ModuleNotFoundError",
     "evalue": "No module named 'preprocess'",
     "output_type": "error",
     "traceback": [
      "\u001b[31m---------------------------------------------------------------------------\u001b[39m",
      "\u001b[31mModuleNotFoundError\u001b[39m                       Traceback (most recent call last)",
      "\u001b[36mCell\u001b[39m\u001b[36m \u001b[39m\u001b[32mIn[1]\u001b[39m\u001b[32m, line 7\u001b[39m\n\u001b[32m      5\u001b[39m \u001b[38;5;28;01mfrom\u001b[39;00m\u001b[38;5;250m \u001b[39m\u001b[34;01msklearn\u001b[39;00m\u001b[34;01m.\u001b[39;00m\u001b[34;01mpreprocessing\u001b[39;00m\u001b[38;5;250m \u001b[39m\u001b[38;5;28;01mimport\u001b[39;00m TargetEncoder\n\u001b[32m      6\u001b[39m \u001b[38;5;28;01mfrom\u001b[39;00m\u001b[38;5;250m \u001b[39m\u001b[34;01msklearn\u001b[39;00m\u001b[34;01m.\u001b[39;00m\u001b[34;01mpreprocessing\u001b[39;00m\u001b[38;5;250m \u001b[39m\u001b[38;5;28;01mimport\u001b[39;00m OneHotEncoder\n\u001b[32m----> \u001b[39m\u001b[32m7\u001b[39m \u001b[38;5;28;01mimport\u001b[39;00m\u001b[38;5;250m \u001b[39m\u001b[34;01mpreprocess\u001b[39;00m\u001b[38;5;250m \u001b[39m\u001b[38;5;28;01mas\u001b[39;00m\u001b[38;5;250m \u001b[39m\u001b[34;01mpr\u001b[39;00m\n",
      "\u001b[31mModuleNotFoundError\u001b[39m: No module named 'preprocess'"
     ]
    }
   ],
   "source": [
    "import pandas as pd\n",
    "from sklearn.base import BaseEstimator, TransformerMixin\n",
    "from sklearn.pipeline import Pipeline\n",
    "from sklearn.preprocessing import FunctionTransformer\n",
    "from sklearn.preprocessing import TargetEncoder\n",
    "from sklearn.preprocessing import OneHotEncoder\n",
    "import preprocess as pr"
   ]
  },
  {
   "cell_type": "code",
   "execution_count": 54,
   "id": "eea853e1",
   "metadata": {},
   "outputs": [
    {
     "name": "stderr",
     "output_type": "stream",
     "text": [
      "C:\\Users\\Fernando\\AppData\\Local\\Temp\\ipykernel_12264\\3351688478.py:8: SettingWithCopyWarning: \n",
      "A value is trying to be set on a copy of a slice from a DataFrame.\n",
      "Try using .loc[row_indexer,col_indexer] = value instead\n",
      "\n",
      "See the caveats in the documentation: https://pandas.pydata.org/pandas-docs/stable/user_guide/indexing.html#returning-a-view-versus-a-copy\n",
      "  data_company_response_binary[\"Company response\"] = data_company_response_binary[\"Company response\"].map(estado_respuesta)\n"
     ]
    }
   ],
   "source": [
    "from sklearn.model_selection import train_test_split\n",
    "\n",
    "data = pd.read_csv(\"../data/data_train.csv\", index_col=0)\n",
    "data_company_response_binary = data[~data[\"Company response\"].isin([\"In progress\", \"Untimely response\"])]\n",
    "estado_respuesta = {'Closed with monetary relief': 0, \n",
    "       'Closed with non-monetary relief':0, 'Closed with explanation': 1, 'Closed': 1}\n",
    "\n",
    "data_company_response_binary[\"Company response\"] = data_company_response_binary[\"Company response\"].map(estado_respuesta)\n",
    "\n",
    "\n",
    "X = data_company_response_binary.drop(columns=[\"Company response\"])\n",
    "y = data_company_response_binary[\"Company response\"]\n",
    "\n",
    "X_train, X_test, y_train, y_test = train_test_split(X, y, test_size=0.2, random_state= 42)"
   ]
  },
  {
   "cell_type": "markdown",
   "id": "05321e91",
   "metadata": {},
   "source": [
    "### Funciones Sub-product\n",
    "\n"
   ]
  },
  {
   "cell_type": "code",
   "execution_count": 31,
   "id": "0e20a63e",
   "metadata": {},
   "outputs": [],
   "source": [
    "# Filling NaN\n",
    "\n",
    "filling_na = FunctionTransformer(lambda x: x.fillna(\"No Subproduct\"),validate=False)\n",
    "\n",
    "# data[\"Sub-product\"] = filling_na.transform(data[\"Sub-product\"])"
   ]
  },
  {
   "cell_type": "code",
   "execution_count": null,
   "id": "c847dad5",
   "metadata": {},
   "outputs": [],
   "source": [
    "# Codificacion con Target Encoder y sustitución de la columna Sub-issue\n",
    "\n",
    "class FillEncodeColumn(BaseEstimator, TransformerMixin):\n",
    "    def __init__(self, column, smooth=\"auto\", cv=5, categories = \"auto\", random_state=42):\n",
    "        self.column = column\n",
    "        self.smooth = smooth\n",
    "        self.cv = cv\n",
    "        self.random_state = random_state\n",
    "        self.categories = categories\n",
    "        self.encoder = None\n",
    "\n",
    "    def fit(self, X, y=None):\n",
    "        self.encoder= TargetEncoder(\n",
    "            smooth=self.smooth,\n",
    "            cv=self.cv,\n",
    "            random_state=self.random_state,\n",
    "            categories = self.categories \n",
    "        )\n",
    "        self.encoder.fit(X[[self.column]], y)\n",
    "        self.n_features_in_ = X.shape[1]\n",
    "        return self\n",
    "\n",
    "    def transform(self, X):\n",
    "        assert X.shape[1] == self.n_features_in_\n",
    "        encoded = self.encoder.transform(X[[self.column]])\n",
    "        X[self.column] = encoded\n",
    "        return X\n",
    "\n"
   ]
  },
  {
   "cell_type": "code",
   "execution_count": null,
   "id": "18ea5f17",
   "metadata": {},
   "outputs": [],
   "source": [
    "pipeline = Pipeline([\n",
    "    (\"fill_na\", filling_na),\n",
    "    (\"encoder\", FillEncodeColumn(column=\"Sub-product\"))\n",
    "])\n",
    "\n",
    "data = pipeline.fit_transform(X_train, y_train )"
   ]
  },
  {
   "cell_type": "markdown",
   "id": "d2653a7d",
   "metadata": {},
   "source": [
    "## Hasta aqui conseguido"
   ]
  },
  {
   "cell_type": "markdown",
   "id": "ba8bfb5f",
   "metadata": {},
   "source": [
    "## Funciones Dates"
   ]
  },
  {
   "cell_type": "code",
   "execution_count": null,
   "id": "9b331928",
   "metadata": {},
   "outputs": [],
   "source": [
    "date_converter = FunctionTransformer(pr.date_converter, validate=False)\n",
    "day_of_week_month_received = FunctionTransformer(pr.day_of_week_and_month, kw_args={\"column_date\": \"Date received\"}, validate = False)\n",
    "day_of_week_month_sent = FunctionTransformer(pr.day_of_week_and_month, kw_args={\"column_date\": \"Date sent to company\"}, validate = False)\n",
    "\n",
    "# Al contrario que el notebook de preprocessing, he incorporado el drop\n",
    "# en la función, por lo que elimina la columna original al aplicar la función"
   ]
  },
  {
   "cell_type": "markdown",
   "id": "67c07354",
   "metadata": {},
   "source": [
    "## Funciones Product"
   ]
  },
  {
   "cell_type": "code",
   "execution_count": null,
   "id": "5b2d542a",
   "metadata": {},
   "outputs": [],
   "source": [
    "class ProductEncoder(BaseEstimator, TransformerMixin):\n",
    "\n",
    "    def __init__(self,column, sparse_output = False, dtype=int):\n",
    "        self.column = column\n",
    "        self.sparse_output = sparse_output\n",
    "        self.dtype = dtype\n",
    "        self.encoder = None\n",
    "\n",
    "    def fit(self, X, y=None):\n",
    "        self.encoder = OneHotEncoder(sparse_output=self.sparse_output,\n",
    "                                     dtype=self.dtype)\n",
    "        self.encoder.fit(X[[self.column]], y)\n",
    "        self.n_features_in_ = X.shape[1]\n",
    "        return self\n",
    "    \n",
    "    def transform(self, X):\n",
    "        assert X.shape[1] == self.n_features_in_\n",
    "        encoded= self.encoder.transform(X[[self.column]])\n",
    "        encoded = pd.DataFrame(encoded, \n",
    "                               columns = self.encoder.get_feature_names_out([self.column]), \n",
    "                               index=X.index)\n",
    "        X = pd.concat([X, encoded], axis=1)\n",
    "        X = X.drop(columns=[self.column])\n",
    "        return X\n",
    "        "
   ]
  },
  {
   "cell_type": "markdown",
   "id": "34fcd1b8",
   "metadata": {},
   "source": [
    "## Funciones State"
   ]
  },
  {
   "cell_type": "code",
   "execution_count": null,
   "id": "00036b61",
   "metadata": {},
   "outputs": [],
   "source": [
    "regions_and_divisions = FunctionTransformer(pr.regions_and_divisions, kw_args={\"column_state\": \"State\"}, validate=False)"
   ]
  },
  {
   "cell_type": "code",
   "execution_count": null,
   "id": "7f62d274",
   "metadata": {},
   "outputs": [],
   "source": [
    "class RegionDivisionEncoder(BaseEstimator, TransformerMixin):\n",
    "    \n",
    "    def __init__(self,column, sparse_output = False, dtype=int):\n",
    "        self.column = column\n",
    "        self.sparse_output = sparse_output\n",
    "        self.dtype = dtype\n",
    "        self.encoder = None\n",
    "\n",
    "    def fit(self, X, y=None):\n",
    "        self.encoder = OneHotEncoder(sparse_output=self.sparse_output,\n",
    "                                     dtype=self.dtype)\n",
    "        self.encoder.fit(X[[self.column]], y)\n",
    "        self.n_features_in_ = X.shape[1]\n",
    "        return self\n",
    "    \n",
    "    def transform(self, X):\n",
    "        assert X.shape[1] == self.n_features_in_\n",
    "        encoded= self.encoder.transform(X[[self.column]])\n",
    "        encoded = pd.DataFrame(encoded, \n",
    "                               columns = self.encoder.get_feature_names_out([self.column]), \n",
    "                               index=X.index)\n",
    "        X = pd.concat([X, encoded], axis=1)\n",
    "        X = X.drop(columns=[self.column])\n",
    "        return X\n",
    "    \n",
    "    # Recuerda que hay que hacerlo para la columna regions y divisions"
   ]
  },
  {
   "cell_type": "markdown",
   "id": "caaa783f",
   "metadata": {},
   "source": [
    "## Functions Issue"
   ]
  },
  {
   "cell_type": "code",
   "execution_count": null,
   "id": "e17e2c43",
   "metadata": {},
   "outputs": [],
   "source": [
    "# Limpieza de texto\n",
    "\n",
    "text_cleaner = FunctionTransformer(pr.tokenize_column,kw_args={\"column_state\": \"Issue\"}, validate=False)\n"
   ]
  },
  {
   "cell_type": "code",
   "execution_count": null,
   "id": "33c03702",
   "metadata": {},
   "outputs": [],
   "source": []
  }
 ],
 "metadata": {
  "kernelspec": {
   "display_name": "proyecto-final-ml (3.11.8)",
   "language": "python",
   "name": "python3"
  },
  "language_info": {
   "codemirror_mode": {
    "name": "ipython",
    "version": 3
   },
   "file_extension": ".py",
   "mimetype": "text/x-python",
   "name": "python",
   "nbconvert_exporter": "python",
   "pygments_lexer": "ipython3",
   "version": "3.11.8"
  }
 },
 "nbformat": 4,
 "nbformat_minor": 5
}
