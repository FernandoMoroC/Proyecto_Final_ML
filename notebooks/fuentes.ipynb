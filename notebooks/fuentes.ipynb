{
 "cells": [
  {
   "cell_type": "markdown",
   "id": "15da571a",
   "metadata": {},
   "source": [
    "# DATA LOADING"
   ]
  },
  {
   "cell_type": "code",
   "execution_count": null,
   "id": "5a82c518",
   "metadata": {},
   "outputs": [],
   "source": [
    "import pandas as pd\n",
    "import numpy as np"
   ]
  },
  {
   "cell_type": "markdown",
   "id": "c82df938",
   "metadata": {},
   "source": [
    "## Loading DATA "
   ]
  },
  {
   "cell_type": "code",
   "execution_count": null,
   "id": "a69e8c00",
   "metadata": {},
   "outputs": [],
   "source": [
    "data = pd.read_csv(\"../data/quejas-clientes.csv\", index_col=0)\n",
    "data.head(10)"
   ]
  },
  {
   "cell_type": "markdown",
   "id": "6b138e58",
   "metadata": {},
   "source": [
    "## Split of data into training and test\n",
    "\n",
    "First, the data will be split into training and test sets. It will then be saved into two separate files."
   ]
  },
  {
   "cell_type": "code",
   "execution_count": 6,
   "id": "a9229ac2",
   "metadata": {},
   "outputs": [],
   "source": [
    "from sklearn.model_selection import train_test_split"
   ]
  },
  {
   "cell_type": "code",
   "execution_count": 7,
   "id": "6c1bc09d",
   "metadata": {},
   "outputs": [],
   "source": [
    "data_train, data_test = train_test_split(data, test_size=0.2, shuffle = True)"
   ]
  }
 ],
 "metadata": {
  "kernelspec": {
   "display_name": "proyecto-final-ml (3.11.8)",
   "language": "python",
   "name": "python3"
  },
  "language_info": {
   "codemirror_mode": {
    "name": "ipython",
    "version": 3
   },
   "file_extension": ".py",
   "mimetype": "text/x-python",
   "name": "python",
   "nbconvert_exporter": "python",
   "pygments_lexer": "ipython3",
   "version": "3.11.8"
  }
 },
 "nbformat": 4,
 "nbformat_minor": 5
}
