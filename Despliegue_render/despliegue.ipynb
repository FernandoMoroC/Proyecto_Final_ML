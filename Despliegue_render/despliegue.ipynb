{
 "cells": [
  {
   "cell_type": "markdown",
   "id": "8db428fd",
   "metadata": {},
   "source": [
    "# DESPLIEGUE CON STREAMLIT"
   ]
  },
  {
   "cell_type": "code",
   "execution_count": null,
   "id": "45847e2b",
   "metadata": {},
   "outputs": [],
   "source": [
    "import streamlit as st\n",
    "import pandas as pd\n",
    "import numpy as np\n",
    "import joblib"
   ]
  },
  {
   "cell_type": "code",
   "execution_count": null,
   "id": "85ad079e",
   "metadata": {},
   "outputs": [],
   "source": [
    "modelo = joblib.load(\"pipeline_produccion.pkl\")\n",
    "\n",
    "st.title('Modelo de predicción de compensaciones')\n",
    "\n",
    "st.write(\"Sube tu csv de reclamaciones\")\n",
    "\n",
    "@st.cache_resource\n",
    "def carga_modelo(ruta_modelo:str):\n",
    "    modelo = joblib.load(\"/Despliegue_render/streamlit_app.py\")\n",
    "    return modelo\n",
    "\n",
    "\n",
    "\n"
   ]
  },
  {
   "cell_type": "code",
   "execution_count": null,
   "id": "6b4d2b09",
   "metadata": {},
   "outputs": [],
   "source": [
    "\n",
    "\n",
    "# Carga del modelo pre-entrenado\n",
    "modelo_path = \"modelo_pipeline.pkl\"  # Cambia por tu archivo\n",
    "try:\n",
    "    modelo = cargar_modelo(modelo_path)\n",
    "    st.success(f\"Modelo cargado desde {modelo_path}\")\n",
    "except Exception as e:\n",
    "    st.error(f\"No se pudo cargar el modelo: {e}\")\n",
    "    st.stop()\n",
    "\n",
    "# -------------------------------\n",
    "# SUBIR CSV\n",
    "# -------------------------------\n",
    "uploaded_file = st.file_uploader(\"Sube tu archivo CSV\", type=[\"csv\"])\n",
    "\n",
    "if uploaded_file is not None:\n",
    "    try:\n",
    "        # Leer CSV\n",
    "        df = pd.read_csv(uploaded_file)\n",
    "        \n",
    "        df = pd.read_csv(ruta_csv.name)  \n",
    "        predicciones = modelo.predict(df)\n",
    "        probabilidad = modelo.predict_proba(df)\n",
    "\n",
    "        prob_predicha = []\n",
    "        for i, pred in enumerate(predicciones):\n",
    "            prob_predicha.append(probabilidad[i, pred])\n",
    "        \n",
    "        df[\"Prediccion\"] = predicciones\n",
    "        df[\"Probabilidad\"] = prob_predicha\n",
    "        df[\"Mensaje\"] = df[\"Prediccion\"].map({\n",
    "            0: \"La queja requiere compensación\",\n",
    "            1: \"La queja no requiere compensación\"\n",
    "            })\n",
    "\n",
    "        # Mostrar resultados\n",
    "        st.subheader(\"Resultados con Predicciones\")\n",
    "        st.dataframe(df)\n",
    "\n",
    "        # Descargar CSV con resultados\n",
    "        csv_result = df.to_csv(index=False).encode('utf-8')\n",
    "        st.download_button(\n",
    "            label=\"Descargar CSV con predicciones\",\n",
    "            data=csv_result,\n",
    "            file_name='predicciones.csv',\n",
    "            mime='text/csv'\n",
    "        )\n",
    "\n",
    "    except Exception as e:\n",
    "        st.error(f\"Error al procesar el archivo: {e}\")\n",
    "else:\n",
    "    st.info(\"Por favor, sube un archivo CSV para obtener predicciones.\")\n"
   ]
  }
 ],
 "metadata": {
  "kernelspec": {
   "display_name": "proyecto-final-ml (3.11.8)",
   "language": "python",
   "name": "python3"
  },
  "language_info": {
   "codemirror_mode": {
    "name": "ipython",
    "version": 3
   },
   "file_extension": ".py",
   "mimetype": "text/x-python",
   "name": "python",
   "nbconvert_exporter": "python",
   "pygments_lexer": "ipython3",
   "version": "3.11.8"
  }
 },
 "nbformat": 4,
 "nbformat_minor": 5
}
